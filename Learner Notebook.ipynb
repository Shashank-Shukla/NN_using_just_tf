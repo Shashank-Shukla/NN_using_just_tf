{
 "cells": [
  {
   "cell_type": "markdown",
   "metadata": {},
   "source": [
    "# Neural Network from Scratch in TensorFlow"
   ]
  },
  {
   "cell_type": "markdown",
   "metadata": {},
   "source": [
    "# Task 1: Introduction and Importing Libraries"
   ]
  },
  {
   "cell_type": "code",
   "execution_count": 28,
   "metadata": {},
   "outputs": [
    {
     "name": "stdout",
     "output_type": "stream",
     "text": [
      "TensorFlow Version: 2.1.0\n"
     ]
    }
   ],
   "source": [
    "import tensorflow as tf\n",
    "import numpy as np\n",
    "import matplotlib.pyplot as plt\n",
    "import nn_utils\n",
    "%matplotlib inline\n",
    "\n",
    "print('TensorFlow Version:', tf.__version__)"
   ]
  },
  {
   "cell_type": "markdown",
   "metadata": {},
   "source": [
    "# Task 2: Initializing Neural Network"
   ]
  },
  {
   "cell_type": "code",
   "execution_count": 29,
   "metadata": {},
   "outputs": [],
   "source": [
    "# Densly fully connected NN\n",
    "class NeuralNetwork:\n",
    "    def __init__(self, layers):\n",
    "        # layers = [features, units_in_hidden_Layer, classes]\n",
    "        self.layers = layers\n",
    "        self.L = len(layers)\n",
    "        self.num_features = layers[0]\n",
    "        self.num_classes = layers[-1]\n",
    "        \n",
    "        self.W = {} # Weights dict\n",
    "        self.b = {} # Biases dict\n",
    "        \n",
    "        self.dW = {} # Weight gradient\n",
    "        self.db = {} # Bias gradient\n",
    "        \n",
    "        self.setup()\n",
    "        \n",
    "    def setup(self):\n",
    "        # Your code here\n",
    "        for i in range(1, self.L):\n",
    "            # i=0 is no of features, hence we start from i=1\n",
    "            self.W[i] = tf.Variable(tf.random.normal(shape=(self.layers[i],self.layers[i-1])))\n",
    "            # Shape = no. of nodes in curr layer by precedding layer\n",
    "            # can also use random.uniform instead of random.normal\n",
    "            self.b[i] = tf.Variable(tf.random.normal(shape=(self.layers[i],1)))"
   ]
  },
  {
   "cell_type": "markdown",
   "metadata": {},
   "source": [
    "# Task 3: Forward Pass"
   ]
  },
  {
   "cell_type": "code",
   "execution_count": 30,
   "metadata": {},
   "outputs": [],
   "source": [
    "# Extending the previous class\n",
    "class NeuralNetwork(NeuralNetwork):\n",
    "    def forward_pass(self, X):\n",
    "        # Your code here\n",
    "        # X=input to our function\n",
    "        A = tf.convert_to_tensor(X, dtype=tf.float32)\n",
    "        for i in range(1, self.L):\n",
    "            Z = tf.matmul(A, tf.transpose(self.W[i]))+tf.transpose(self.b[i])\n",
    "            # Z = W.X+b\n",
    "            if i!=self.L-1: # if layer is not final layer\n",
    "                A = tf.nn.relu(Z)\n",
    "                # Activation function.\n",
    "            else:\n",
    "                A=Z\n",
    "        return A"
   ]
  },
  {
   "cell_type": "markdown",
   "metadata": {},
   "source": [
    "# Task 4: Computing Loss and Updating Parameters"
   ]
  },
  {
   "cell_type": "code",
   "execution_count": 31,
   "metadata": {},
   "outputs": [],
   "source": [
    "# Extending the previous class\n",
    "class NeuralNetwork(NeuralNetwork):\n",
    "    # Your code here\n",
    "    def compute_loss(self, A, Y):\n",
    "        loss = tf.nn.softmax_cross_entropy_with_logits(Y, A)\n",
    "        return tf.reduce_mean(loss)\n",
    "    \n",
    "    def update_params(self,lr):\n",
    "        for i in range(1,self.L):\n",
    "            self.W[i].assign_sub(lr*self.dW[i])\n",
    "            # Subtract value as: W = W-lr*dW\n",
    "            self.b[i].assign_sub(lr*self.db[i])"
   ]
  },
  {
   "cell_type": "markdown",
   "metadata": {},
   "source": [
    "# Task 5: Predict and Info Functions"
   ]
  },
  {
   "cell_type": "code",
   "execution_count": 32,
   "metadata": {},
   "outputs": [],
   "source": [
    "class NeuralNetwork(NeuralNetwork):\n",
    "    def predict(self, X):\n",
    "        # Your code here\n",
    "        A = self.forward_pass(X)\n",
    "        return tf.argmax(tf.nn.softmax(A),axis=1)\n",
    "        # softmax to predict the output\n",
    "        # argmax to predict the output class\n",
    "    \n",
    "    def info(self):\n",
    "        num_params = 0\n",
    "        for i in range(1, self.L):\n",
    "            num_params += self.W[i].shape[0] * self.W[i].shape[1]\n",
    "            num_params += self.b[i].shape[0]\n",
    "        print('Input Features:', self.num_features)\n",
    "        print('Number of Classes:', self.num_classes)\n",
    "        print('Hidden Layers:')\n",
    "        print('--------------')\n",
    "        for i in range(1, self.L-1):\n",
    "            print('Layer {}, Units {}'.format(i, self.layers[i]))\n",
    "        print('--------------')\n",
    "        print('Number of parameters:', num_params)"
   ]
  },
  {
   "cell_type": "markdown",
   "metadata": {},
   "source": [
    "# Task 6: Training on Batch"
   ]
  },
  {
   "cell_type": "code",
   "execution_count": 33,
   "metadata": {},
   "outputs": [],
   "source": [
    "class NeuralNetwork(NeuralNetwork):\n",
    "    def train_on_batch(self, X, Y, lr):\n",
    "        # Your code here\n",
    "        X = tf.convert_to_tensor(X, dtype=tf.float32)\n",
    "        Y = tf.convert_to_tensor(Y, dtype=tf.float32)\n",
    "        \n",
    "        # To run backward propagation.....\n",
    "        with tf.GradientTape(persistent=True) as tape:\n",
    "            A = self.forward_pass(X)\n",
    "            loss = self.compute_loss(A,Y)\n",
    "            \n",
    "        # Calc gradient for all the layers\n",
    "        for i in range(1, self.L):\n",
    "            self.dW[i] = tape.gradient(loss, self.W[i])\n",
    "            self.db[i] = tape.gradient(loss, self.b[i])\n",
    "        del tape\n",
    "        self.update_params(lr)\n",
    "        return loss.numpy()"
   ]
  },
  {
   "cell_type": "markdown",
   "metadata": {},
   "source": [
    "# Task 7: Training on Complete Set"
   ]
  },
  {
   "cell_type": "code",
   "execution_count": 34,
   "metadata": {},
   "outputs": [],
   "source": [
    "class NeuralNetwork(NeuralNetwork):\n",
    "    def train(self, x_train, y_train, x_test, y_test, epochs, steps_per_epoch, batch_size, lr):\n",
    "        # Your code here\n",
    "        history ={\n",
    "            'val_loss' : [],\n",
    "            'train_loss' : [],\n",
    "            'val_acc' : [],\n",
    "        }\n",
    "        \n",
    "        # instead of running all the iter for all eg, we're running for a mini-batch\n",
    "        # if batch_size=100 and 1000 egs, the steps_per_epoch=10\n",
    "        for e in range(0, epochs):\n",
    "            epoch_train_loss = 0\n",
    "            print('Epoch {}'.format(e+1),end='#')\n",
    "            for i in range(0, steps_per_epoch):\n",
    "                x_batch = x_train[i*batch_size:(i+1)*batch_size]\n",
    "                y_batch = y_train[i*batch_size:(i+1)*batch_size]\n",
    "                \n",
    "                batch_loss = self.train_on_batch(x_batch, y_batch, lr)\n",
    "                epoch_train_loss += batch_loss\n",
    "                \n",
    "                # Fashion piece of code:\n",
    "                if i%int(steps_per_epoch/10) ==0:\n",
    "                    print(end=\"#\")\n",
    "                \n",
    "            # Store history for every epoch\n",
    "            history['train_loss'].append(epoch_train_loss/steps_per_epoch)\n",
    "            # get output from a validation set...val_A\n",
    "            val_A = self.forward_pass(x_test)\n",
    "            val_LOss = self.compute_loss(val_A,y_test).numpy()\n",
    "            history['val_loss'].append(val_LOss)\n",
    "            val_preds = self.predict(x_test)\n",
    "            # y_test is multi-categorical/one-hot encoded vec. So we need to calc max numerical value\n",
    "            # and check how many are correct => gives us total number.\n",
    "            # Hence we calc mean of those vals.\n",
    "            val_acc = np.mean(np.argmax(y_test, axis=1)==val_preds.numpy())\n",
    "            history['val_acc'].append(val_acc)\n",
    "            print('  Val_accuracy: ',val_acc)\n",
    "        return history"
   ]
  },
  {
   "cell_type": "markdown",
   "metadata": {},
   "source": [
    "# Task 8: Application"
   ]
  },
  {
   "cell_type": "code",
   "execution_count": 35,
   "metadata": {},
   "outputs": [
    {
     "data": {
      "image/png": "[encoded data removed]",
      "text/plain": [
       "<Figure size 720x360 with 10 Axes>"
      ]
     },
     "metadata": {},
     "output_type": "display_data"
    }
   ],
   "source": [
    "(x_train, y_train), (x_test, y_test) = nn_utils.load_data()\n",
    "nn_utils.plot_random_examples(x_train, y_train).show()"
   ]
  },
  {
   "cell_type": "code",
   "execution_count": 36,
   "metadata": {},
   "outputs": [
    {
     "name": "stdout",
     "output_type": "stream",
     "text": [
      "Input Features: 784\n",
      "Number of Classes: 10\n",
      "Hidden Layers:\n",
      "--------------\n",
      "Layer 1, Units 128\n",
      "Layer 2, Units 128\n",
      "--------------\n",
      "Number of parameters: 118282\n"
     ]
    }
   ],
   "source": [
    "# MNIST has 784 features (28,28)\n",
    "# 2 hidden layers with 128 units each\n",
    "# 10 classes\n",
    "net = NeuralNetwork([784, 128, 128, 10])\n",
    "net.info()"
   ]
  },
  {
   "cell_type": "code",
   "execution_count": 37,
   "metadata": {},
   "outputs": [
    {
     "name": "stdout",
     "output_type": "stream",
     "text": [
      "Steps per epoch:  500\n"
     ]
    }
   ],
   "source": [
    "# 60k eg in train-set\n",
    "batch_size = 120\n",
    "epochs = 25\n",
    "steps_per_epoch = int(x_train.shape[0]/batch_size)\n",
    "lr = 3e-3\n",
    "print('Steps per epoch: ',steps_per_epoch)"
   ]
  },
  {
   "cell_type": "code",
   "execution_count": 38,
   "metadata": {},
   "outputs": [
    {
     "name": "stdout",
     "output_type": "stream",
     "text": [
      "Epoch 1###########  Val_accuracy:  0.8272\n",
      "Epoch 2###########  Val_accuracy:  0.8545\n",
      "Epoch 3###########  Val_accuracy:  0.8664\n",
      "Epoch 4###########  Val_accuracy:  0.8753\n",
      "Epoch 5###########  Val_accuracy:  0.8782\n",
      "Epoch 6###########  Val_accuracy:  0.8849\n",
      "Epoch 7###########  Val_accuracy:  0.8864\n",
      "Epoch 8###########  Val_accuracy:  0.8889\n",
      "Epoch 9###########  Val_accuracy:  0.891\n",
      "Epoch 10###########  Val_accuracy:  0.8922\n",
      "Epoch 11###########  Val_accuracy:  0.8933\n",
      "Epoch 12###########  Val_accuracy:  0.8937\n",
      "Epoch 13###########  Val_accuracy:  0.8954\n",
      "Epoch 14###########  Val_accuracy:  0.8967\n",
      "Epoch 15###########  Val_accuracy:  0.8969\n",
      "Epoch 16###########  Val_accuracy:  0.8987\n",
      "Epoch 17###########  Val_accuracy:  0.899\n",
      "Epoch 18###########  Val_accuracy:  0.9004\n",
      "Epoch 19###########  Val_accuracy:  0.9017\n",
      "Epoch 20###########  Val_accuracy:  0.9019\n",
      "Epoch 21###########  Val_accuracy:  0.9036\n",
      "Epoch 22###########  Val_accuracy:  0.9034\n",
      "Epoch 23###########  Val_accuracy:  0.9041\n",
      "Epoch 24###########  Val_accuracy:  0.9056\n",
      "Epoch 25###########  Val_accuracy:  0.906\n"
     ]
    }
   ],
   "source": [
    "history = net.train(x_train, y_train, x_test, y_test, epochs, steps_per_epoch, batch_size,lr)"
   ]
  },
  {
   "cell_type": "markdown",
   "metadata": {},
   "source": [
    "# Task 9: Results"
   ]
  },
  {
   "cell_type": "code",
   "execution_count": 39,
   "metadata": {},
   "outputs": [
    {
     "data": {
      "image/png": "[encoded data removed]",
      "text/plain": [
       "<Figure size 864x288 with 2 Axes>"
      ]
     },
     "metadata": {
      "needs_background": "light"
     },
     "output_type": "display_data"
    }
   ],
   "source": [
    "nn_utils.plot_results(history).show()"
   ]
  },
  {
   "cell_type": "code",
   "execution_count": 40,
   "metadata": {},
   "outputs": [],
   "source": [
    "preds = net.predict(x_test)"
   ]
  },
  {
   "cell_type": "code",
   "execution_count": 41,
   "metadata": {},
   "outputs": [
    {
     "data": {
      "image/png": "[encoded data removed]",
      "text/plain": [
       "<Figure size 720x360 with 10 Axes>"
      ]
     },
     "metadata": {},
     "output_type": "display_data"
    }
   ],
   "source": [
    "nn_utils.plot_random_examples(x_test, y_test, preds.numpy()).show()"
   ]
  },
  {
   "cell_type": "code",
   "execution_count": null,
   "metadata": {},
   "outputs": [],
   "source": []
  }
 ],
 "metadata": {
  "kernelspec": {
   "display_name": "Python 3",
   "language": "python",
   "name": "python3"
  },
  "language_info": {
   "codemirror_mode": {
    "name": "ipython",
    "version": 3
   },
   "file_extension": ".py",
   "mimetype": "text/x-python",
   "name": "python",
   "nbconvert_exporter": "python",
   "pygments_lexer": "ipython3",
   "version": "3.7.0"
  }
 },
 "nbformat": 4,
 "nbformat_minor": 2
}
